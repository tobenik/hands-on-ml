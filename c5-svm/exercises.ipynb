{
 "cells": [
  {
   "cell_type": "markdown",
   "id": "a95251f3-e6d9-4dc7-aa68-112844d049bc",
   "metadata": {},
   "source": [
    "1. What is the fundamental idea behind support vector machines?\n",
    "- SVMs can be used to 1) classify or 2) regress data. If SVMs are used for classification, the idea is to find the line(s) or curve(s) that splits the data into correct classes while maintaining the maximum distance from the closest member of each class. SVMs are also used for regression so that the goal is to get as many points into the \"road\" defined by the line so that the road's width is \\epsilon to each side of the line.\n",
    "\n",
    "2. What is a support vector?\n",
    "- All data points on the street or on its border are called support vectors. The support vectors are the only data points that have an influence on the street.\n",
    "\n",
    "3. Why is it important to scale the inputs when using SVMs?\n",
    "- SVMs try to fit as wide a street as possible and if the features are of widely different scales, the SVM will tend to almost ignore features with small scales.\n",
    "\n",
    "4. Can an SVM classifier output a confidence score when it classifies an instance? What about a probability?\n",
    "- You can get confidence scores by calculating the distance to the class separator. A probability can be squeezed out by using some tricks with linear regression.\n",
    "\n",
    "5. How can you choose between LinearSVC, SVC, and SGDClassifier?\n",
    "- LinearSVC can be pretty quick for linear SVMs, but SDGClassifier is pretty similar in speed and allows for minibatch training. SVC supports the kernel trick (still not sure what the trick is) which allows for non-linear SVMs.\n",
    "\n",
    "6. Say you’ve trained an SVM classifier with an RBF kernel, but it seems to underfit the training set. Should you increase or decrease γ (gamma)? What about C?\n",
    "- Gamma is the narrowness of the distribution so if you're underfitting you should increase gamma to make the model more strict in its classifying. By increasing C, you can make the classes more defined so try increasing that as well.\n",
    "\n",
    "7. What does it mean for a model to be ϵ-insensitive?\n",
    "- It means that data points inside the street (ϵ away from the fitted line) have no impact to the model.\n",
    "\n",
    "8. What is the point of using the kernel trick?\n",
    "- To capture non linear phenomena without having to transform features into higher dimension features."
   ]
  },
  {
   "cell_type": "markdown",
   "id": "005f1c64-5cef-45ff-90b2-fc94db6a931f",
   "metadata": {},
   "source": [
    "9. Train a LinearSVC on a linearly separable dataset. Then train an SVC and a SGDClassifier on the same dataset. See if you can get them to produce roughly the same model."
   ]
  },
  {
   "cell_type": "code",
   "execution_count": 1,
   "id": "3040558b-e727-4078-b623-2d5c62259f34",
   "metadata": {},
   "outputs": [],
   "source": [
    "# data from the book\n",
    "from sklearn import datasets\n",
    "\n",
    "iris = datasets.load_iris(as_frame=True)\n",
    "X = iris.data[[\"petal length (cm)\", \"petal width (cm)\"]].values\n",
    "y = iris.target\n",
    "\n",
    "setosa_or_versicolor = (y == 0) | (y == 1)\n",
    "X = X[setosa_or_versicolor]\n",
    "y = y[setosa_or_versicolor]"
   ]
  },
  {
   "cell_type": "code",
   "execution_count": 2,
   "id": "7b030762-04b5-4ff4-b6ba-fef012404bb1",
   "metadata": {},
   "outputs": [
    {
     "data": {
      "image/png": "[encoded data removed]",
      "text/plain": [
       "<Figure size 300x300 with 1 Axes>"
      ]
     },
     "metadata": {},
     "output_type": "display_data"
    }
   ],
   "source": [
    "import matplotlib.pyplot as plt\n",
    "\n",
    "plt.figure(figsize=(3,3))\n",
    "plt.scatter(X[:,0], X[:,1])\n",
    "plt.ylabel(\"width (cm)\")\n",
    "plt.xlabel(\"length (cm)\")\n",
    "plt.show()"
   ]
  },
  {
   "cell_type": "code",
   "execution_count": 6,
   "id": "0c612cc7-f137-4eaa-b034-c72927972bf3",
   "metadata": {},
   "outputs": [
    {
     "name": "stdout",
     "output_type": "stream",
     "text": [
      "linearsvc_clf     (array([1.054, 1.099]), np.float64(0.285))\n",
      "svc_clf           (array([1.12 , 1.026]), np.float64(0.319))\n",
      "sgd_clf           (array([1.043, 0.966]), np.float64(0.339))\n"
     ]
    }
   ],
   "source": [
    "import numpy as np\n",
    "from sklearn.pipeline import make_pipeline\n",
    "from sklearn.preprocessing import StandardScaler\n",
    "from sklearn.svm import LinearSVC, SVC\n",
    "from sklearn.linear_model import SGDClassifier\n",
    "\n",
    "linearsvc_clf = make_pipeline(StandardScaler(), LinearSVC(C=10, loss=\"hinge\", random_state=1))\n",
    "linearsvc_clf.fit(X, y)\n",
    "\n",
    "svc_clf = make_pipeline(StandardScaler(), SVC(C=10, kernel=\"linear\", random_state=1))\n",
    "svc_clf.fit(X, y)\n",
    "\n",
    "sgd_clf = make_pipeline(StandardScaler(), SGDClassifier(alpha=0.02, random_state=1))\n",
    "sgd_clf.fit(X, y)\n",
    "\n",
    "print(\"linearsvc_clf    \", (np.round(linearsvc_clf[1].coef_[0], 3), round(linearsvc_clf[1].intercept_[0], 3)))\n",
    "print(\"svc_clf          \", (np.round(svc_clf[1].coef_[0], 3), round(svc_clf[1].intercept_[0], 3)))\n",
    "print(\"sgd_clf          \", (np.round(sgd_clf[1].coef_[0], 3), round(sgd_clf[1].intercept_[0], 3)))"
   ]
  },
  {
   "cell_type": "markdown",
   "id": "579639ee-4d45-442a-8b4e-46d95c72a745",
   "metadata": {},
   "source": [
    "10. Train an SVM classifier on the wine dataset, which you can load using sklearn.datasets.load_wine(). This dataset contains the chemical analyses of 178 wine samples produced by 3 different cultivators: the goal is to train a classification model capable of predicting the cultivator based on the wine’s chemical analysis. Since SVM classifiers are binary classifiers, you will need to use one-versus-all to classify all three classes. What accuracy can you reach?"
   ]
  },
  {
   "cell_type": "code",
   "execution_count": 39,
   "id": "d7af3539-615d-48bf-998a-147263d8166a",
   "metadata": {},
   "outputs": [],
   "source": [
    "from sklearn.datasets import load_wine\n",
    "from sklearn.model_selection import train_test_split\n",
    "\n",
    "wine = load_wine(as_frame=True)\n",
    "\n",
    "X_train, X_test, y_train, y_test = train_test_split(\n",
    "    wine.data, wine.target, random_state=1)"
   ]
  },
  {
   "cell_type": "code",
   "execution_count": 40,
   "id": "a5207f9f",
   "metadata": {},
   "outputs": [
    {
     "name": "stdout",
     "output_type": "stream",
     "text": [
      "(133, 13)\n"
     ]
    },
    {
     "data": {
      "text/html": [
       "<div>\n",
       "<style scoped>\n",
       "    .dataframe tbody tr th:only-of-type {\n",
       "        vertical-align: middle;\n",
       "    }\n",
       "\n",
       "    .dataframe tbody tr th {\n",
       "        vertical-align: top;\n",
       "    }\n",
       "\n",
       "    .dataframe thead th {\n",
       "        text-align: right;\n",
       "    }\n",
       "</style>\n",
       "<table border=\"1\" class=\"dataframe\">\n",
       "  <thead>\n",
       "    <tr style=\"text-align: right;\">\n",
       "      <th></th>\n",
       "      <th>alcohol</th>\n",
       "      <th>malic_acid</th>\n",
       "      <th>ash</th>\n",
       "      <th>alcalinity_of_ash</th>\n",
       "      <th>magnesium</th>\n",
       "      <th>total_phenols</th>\n",
       "      <th>flavanoids</th>\n",
       "      <th>nonflavanoid_phenols</th>\n",
       "      <th>proanthocyanins</th>\n",
       "      <th>color_intensity</th>\n",
       "      <th>hue</th>\n",
       "      <th>od280/od315_of_diluted_wines</th>\n",
       "      <th>proline</th>\n",
       "    </tr>\n",
       "  </thead>\n",
       "  <tbody>\n",
       "    <tr>\n",
       "      <th>44</th>\n",
       "      <td>13.05</td>\n",
       "      <td>1.77</td>\n",
       "      <td>2.10</td>\n",
       "      <td>17.0</td>\n",
       "      <td>107.0</td>\n",
       "      <td>3.00</td>\n",
       "      <td>3.00</td>\n",
       "      <td>0.28</td>\n",
       "      <td>2.03</td>\n",
       "      <td>5.04</td>\n",
       "      <td>0.88</td>\n",
       "      <td>3.35</td>\n",
       "      <td>885.0</td>\n",
       "    </tr>\n",
       "    <tr>\n",
       "      <th>78</th>\n",
       "      <td>12.33</td>\n",
       "      <td>0.99</td>\n",
       "      <td>1.95</td>\n",
       "      <td>14.8</td>\n",
       "      <td>136.0</td>\n",
       "      <td>1.90</td>\n",
       "      <td>1.85</td>\n",
       "      <td>0.35</td>\n",
       "      <td>2.76</td>\n",
       "      <td>3.40</td>\n",
       "      <td>1.06</td>\n",
       "      <td>2.31</td>\n",
       "      <td>750.0</td>\n",
       "    </tr>\n",
       "    <tr>\n",
       "      <th>33</th>\n",
       "      <td>13.76</td>\n",
       "      <td>1.53</td>\n",
       "      <td>2.70</td>\n",
       "      <td>19.5</td>\n",
       "      <td>132.0</td>\n",
       "      <td>2.95</td>\n",
       "      <td>2.74</td>\n",
       "      <td>0.50</td>\n",
       "      <td>1.35</td>\n",
       "      <td>5.40</td>\n",
       "      <td>1.25</td>\n",
       "      <td>3.00</td>\n",
       "      <td>1235.0</td>\n",
       "    </tr>\n",
       "  </tbody>\n",
       "</table>\n",
       "</div>"
      ],
      "text/plain": [
       "    alcohol  malic_acid   ash  alcalinity_of_ash  magnesium  total_phenols  \\\n",
       "44    13.05        1.77  2.10               17.0      107.0           3.00   \n",
       "78    12.33        0.99  1.95               14.8      136.0           1.90   \n",
       "33    13.76        1.53  2.70               19.5      132.0           2.95   \n",
       "\n",
       "    flavanoids  nonflavanoid_phenols  proanthocyanins  color_intensity   hue  \\\n",
       "44        3.00                  0.28             2.03             5.04  0.88   \n",
       "78        1.85                  0.35             2.76             3.40  1.06   \n",
       "33        2.74                  0.50             1.35             5.40  1.25   \n",
       "\n",
       "    od280/od315_of_diluted_wines  proline  \n",
       "44                          3.35    885.0  \n",
       "78                          2.31    750.0  \n",
       "33                          3.00   1235.0  "
      ]
     },
     "execution_count": 40,
     "metadata": {},
     "output_type": "execute_result"
    }
   ],
   "source": [
    "print(X_train.shape)\n",
    "X_train.head(3)"
   ]
  },
  {
   "cell_type": "code",
   "execution_count": 41,
   "id": "8962f83f",
   "metadata": {},
   "outputs": [
    {
     "name": "stdout",
     "output_type": "stream",
     "text": [
      "Training accuracy:  100.0\n",
      "Testing accuracy:  97.78\n"
     ]
    }
   ],
   "source": [
    "from sklearn.svm import SVC\n",
    "from sklearn.pipeline import make_pipeline\n",
    "from sklearn.preprocessing import StandardScaler\n",
    "\n",
    "svc_clf = make_pipeline(StandardScaler(), SVC(C=10, random_state=1))\n",
    "svc_clf.fit(X_train, y_train)\n",
    "\n",
    "X_train_preds = svc_clf.predict(X_train)\n",
    "print(\"Training accuracy: \", np.mean(X_train_preds == y_train)*100)\n",
    "\n",
    "X_test_preds = svc_clf.predict(X_test)\n",
    "print(\"Testing accuracy: \", round(np.mean(X_test_preds == y_test)*100, 2))\n"
   ]
  },
  {
   "cell_type": "markdown",
   "id": "e45bb111-f10c-4489-9273-30431d0a1664",
   "metadata": {},
   "source": [
    "11. Train and fine-tune an SVM regressor on the California housing dataset. You can use the original dataset rather than the tweaked version we used in Chapter 2, which you can load using sklearn.datasets.fetch_california_housing(). The targets represent hundreds of thousands of dollars. Since there are over 20,000 instances, SVMs can be slow, so for hyperparameter tuning you should use far fewer instances (e.g., 2,000) to test many more hyperparameter combinations. What is your best model’s RMSE?"
   ]
  },
  {
   "cell_type": "code",
   "execution_count": 47,
   "id": "7daa3951",
   "metadata": {},
   "outputs": [
    {
     "data": {
      "text/plain": [
       "((16512, 8), (16512,))"
      ]
     },
     "execution_count": 47,
     "metadata": {},
     "output_type": "execute_result"
    }
   ],
   "source": [
    "from sklearn.datasets import fetch_california_housing\n",
    "from sklearn.model_selection import train_test_split\n",
    "\n",
    "housing = fetch_california_housing(as_frame=True)\n",
    "\n",
    "X_train, X_test, y_train, y_test = train_test_split(housing.data, housing.target, test_size=0.2, random_state=1)\n",
    "X_train.shape, y_train.shape"
   ]
  },
  {
   "cell_type": "code",
   "execution_count": 55,
   "id": "519cfb99",
   "metadata": {},
   "outputs": [
    {
     "data": {
      "text/plain": [
       "array([0.5805409 , 0.56423034, 0.58381307, 0.56570322, 0.59015281])"
      ]
     },
     "execution_count": 55,
     "metadata": {},
     "output_type": "execute_result"
    }
   ],
   "source": [
    "from sklearn.svm import SVR\n",
    "from sklearn.pipeline import make_pipeline\n",
    "from sklearn.preprocessing import StandardScaler\n",
    "from sklearn.model_selection import RandomizedSearchCV, cross_val_score\n",
    "from scipy.stats import loguniform, uniform\n",
    "\n",
    "svr_clf = make_pipeline(StandardScaler(), SVR())\n",
    "\n",
    "# randomized search with cross validation to find the best model\n",
    "param_distrib = {\n",
    "    \"svr__gamma\": loguniform(0.001, 0.1),\n",
    "    \"svr__C\": uniform(1, 10)\n",
    "}\n",
    "rnd_search_cv = RandomizedSearchCV(svr_clf, param_distributions=param_distrib,\n",
    "                                   n_iter=100, cv=3, random_state=1)\n",
    "rnd_search_cv.fit(X_train[:2000], y_train[:2000])\n",
    "\n",
    "-cross_val_score(rnd_search_cv.best_estimator_, X_train, y_train,\n",
    "                 scoring=\"neg_root_mean_squared_error\")\n"
   ]
  },
  {
   "cell_type": "code",
   "execution_count": 62,
   "id": "f7a2c18b",
   "metadata": {},
   "outputs": [
    {
     "name": "stdout",
     "output_type": "stream",
     "text": [
      "Training RMSE:  56866.0\n"
     ]
    }
   ],
   "source": [
    "best_srv = rnd_search_cv.best_estimator_\n",
    "X_train_preds = best_srv.predict(X_train)\n",
    "print(\"Training RMSE: \", np.round(np.sqrt(np.mean((X_train_preds - y_train) ** 2))*1e5))"
   ]
  }
 ],
 "metadata": {
  "kernelspec": {
   "display_name": "Python 3 (ipykernel)",
   "language": "python",
   "name": "python3"
  },
  "language_info": {
   "codemirror_mode": {
    "name": "ipython",
    "version": 3
   },
   "file_extension": ".py",
   "mimetype": "text/x-python",
   "name": "python",
   "nbconvert_exporter": "python",
   "pygments_lexer": "ipython3",
   "version": "3.12.6"
  }
 },
 "nbformat": 4,
 "nbformat_minor": 5
}
